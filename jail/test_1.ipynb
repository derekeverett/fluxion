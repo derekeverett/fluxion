{
 "cells": [
  {
   "cell_type": "code",
   "execution_count": 1,
   "metadata": {},
   "outputs": [],
   "source": [
    "import numpy as np\n",
    "import blottograd.compgraph as cg\n",
    "import blottograd.nn as nn\n",
    "\n",
    "import autograd as ag"
   ]
  },
  {
   "cell_type": "code",
   "execution_count": 2,
   "metadata": {},
   "outputs": [],
   "source": [
    "# let's build a simple example CG\n",
    "# X -> Linear -> Tanh -> Linear -> Tanh\n",
    "# X ->  A(X)  -> B(a) - > C(b)  -> D(c)\n",
    "\n",
    "d_in = 7\n",
    "d_out = 1\n",
    "d_hid = 13\n",
    "w_A = np.random.normal(size=(d_hid, d_in))\n",
    "w_C = np.random.normal(size=(d_out, d_hid))\n",
    "\n",
    "start_node = cg.CompGraphNode(nn.Identity(), 'start', None)\n",
    "node_A = cg.CompGraphNode(nn.Linear(), 'A', w_A)\n",
    "node_B = cg.CompGraphNode(nn.Tanh(), 'B', None)\n",
    "node_C = cg.CompGraphNode(nn.Linear(), 'C', w_C)\n",
    "node_D = cg.CompGraphNode(nn.Tanh(), 'D', None)\n",
    "\n",
    "# this defines the topology\n",
    "start_node.children.append(node_A)\n",
    "node_A.parents.append(start_node)\n",
    "\n",
    "node_A.children.append(node_B)\n",
    "node_B.parents.append(node_A)\n",
    "\n",
    "node_B.children.append(node_C)\n",
    "node_C.parents.append(node_B)\n",
    "\n",
    "node_C.children.append(node_D)\n",
    "node_D.parents.append(node_C)"
   ]
  },
  {
   "cell_type": "code",
   "execution_count": 3,
   "metadata": {},
   "outputs": [],
   "source": [
    "def test_function(input):\n",
    "    z = ag.numpy.dot(w_A, input)\n",
    "    z = ag.numpy.tanh(z)\n",
    "    z = ag.numpy.dot(w_C, z)\n",
    "    z = ag.numpy.tanh(z)\n",
    "    return z"
   ]
  },
  {
   "cell_type": "code",
   "execution_count": 4,
   "metadata": {},
   "outputs": [],
   "source": [
    "x = np.random.normal(size=d_in)\n",
    "y_bg = cg.prop_forward(start_node, x)\n",
    "dydx_bg = cg.prop_backward(start_node, y_bg)"
   ]
  },
  {
   "cell_type": "code",
   "execution_count": 5,
   "metadata": {},
   "outputs": [],
   "source": [
    "y_ag = test_function(x)\n",
    "dydx_ag = ag.grad(test_function)(x)"
   ]
  },
  {
   "cell_type": "code",
   "execution_count": 6,
   "metadata": {},
   "outputs": [],
   "source": [
    "atol = 1e-5\n",
    "assert np.allclose(y_bg, y_ag, atol=atol)"
   ]
  },
  {
   "cell_type": "code",
   "execution_count": 7,
   "metadata": {},
   "outputs": [],
   "source": [
    "assert np.allclose(dydx_bg, dydx_ag, atol=atol)"
   ]
  }
 ],
 "metadata": {
  "kernelspec": {
   "display_name": "Python 3",
   "language": "python",
   "name": "python3"
  },
  "language_info": {
   "codemirror_mode": {
    "name": "ipython",
    "version": 3
   },
   "file_extension": ".py",
   "mimetype": "text/x-python",
   "name": "python",
   "nbconvert_exporter": "python",
   "pygments_lexer": "ipython3",
   "version": "3.12.8"
  }
 },
 "nbformat": 4,
 "nbformat_minor": 2
}
