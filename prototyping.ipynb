{
 "cells": [
  {
   "cell_type": "code",
   "execution_count": 67,
   "metadata": {},
   "outputs": [],
   "source": [
    "# we need to define our function primitives\n",
    "# for now, we will define a tanh() function\n",
    "# and a linear transformation function\n",
    "\n",
    "import numpy as np\n",
    "\n",
    "class Identity():\n",
    "    def __init__(self):\n",
    "        pass\n",
    "\n",
    "    def forward_fct(self, input, weights):\n",
    "        return input\n",
    "    \n",
    "    def vjp_fct(self, input, weights, vec):\n",
    "        return vec\n",
    "\n",
    "class Linear():\n",
    "    def __init__(self):\n",
    "        pass\n",
    "    \n",
    "    def forward_fct(self, input, weights):\n",
    "        return np.dot(weights, input)\n",
    "\n",
    "    def vjp_fct(self, input, weights, vec):\n",
    "        return np.dot(vec, weights)\n",
    "\n",
    "class Tanh():\n",
    "    def __init__(self):\n",
    "        pass\n",
    "\n",
    "    def forward_fct(self, input, weights):\n",
    "        return np.tanh(input)\n",
    "    \n",
    "    def vjp_fct(self, input, weights, vec):\n",
    "        sech2 = 1./ np.cosh(input)**2.\n",
    "        return vec * sech2\n"
   ]
  },
  {
   "cell_type": "code",
   "execution_count": 68,
   "metadata": {},
   "outputs": [],
   "source": [
    "d = 13\n",
    "w = np.random.normal(size=d**2).reshape((d, d))\n",
    "x = np.random.normal(size=d)\n",
    "\n",
    "assert (Linear().forward_fct(x, w) == np.dot(w, x)).all()\n",
    "assert np.allclose(Tanh().forward_fct(np.pi, None), np.tanh(np.pi))"
   ]
  },
  {
   "cell_type": "code",
   "execution_count": 69,
   "metadata": {},
   "outputs": [],
   "source": [
    "class CompGraphNode:\n",
    "    def __init__(self, fct, name, weights):\n",
    "        self.parents = [] # comp graph nodes that call this function\n",
    "        self.children = [] # comp graph nodes that are called by this function\n",
    "        self.fct = fct\n",
    "        self.name = name\n",
    "        self.input = None\n",
    "        self.weights = weights"
   ]
  },
  {
   "cell_type": "code",
   "execution_count": 70,
   "metadata": {},
   "outputs": [],
   "source": [
    "# let's build a simple example CG\n",
    "# X -> Linear -> Tanh -> Linear -> Tanh\n",
    "# X ->  A(X)  -> B(a) - > C(b)  -> D(c)\n",
    "\n",
    "d_in = 11\n",
    "d_out = 1\n",
    "d_hid = 23\n",
    "w_A = np.random.normal(size=(d_hid, d_in))\n",
    "w_C = np.random.normal(size=(d_out, d_hid))\n",
    "\n",
    "start_node = CompGraphNode(Identity(), 'start', None)\n",
    "node_A = CompGraphNode(Linear(), 'A', w_A)\n",
    "node_B = CompGraphNode(Tanh(), 'B', None)\n",
    "node_C = CompGraphNode(Linear(), 'C', w_C)\n",
    "node_D = CompGraphNode(Tanh(), 'D', None)\n",
    "\n",
    "# this defines the topology\n",
    "start_node.children.append(node_A)\n",
    "node_A.parents.append(start_node)\n",
    "\n",
    "node_A.children.append(node_B)\n",
    "node_B.parents.append(node_A)\n",
    "\n",
    "node_B.children.append(node_C)\n",
    "node_C.parents.append(node_B)\n",
    "\n",
    "node_C.children.append(node_D)\n",
    "node_D.parents.append(node_C)"
   ]
  },
  {
   "cell_type": "code",
   "execution_count": 71,
   "metadata": {},
   "outputs": [],
   "source": [
    "def topo_sort(node):\n",
    "    topo = []\n",
    "    visited = set()\n",
    "    def build_topo(v):\n",
    "        if v not in visited:\n",
    "            visited.add(v)\n",
    "            for child in v.children:\n",
    "                build_topo(child)\n",
    "            topo.append(v)\n",
    "    build_topo(node)\n",
    "    return topo"
   ]
  },
  {
   "cell_type": "code",
   "execution_count": 72,
   "metadata": {},
   "outputs": [
    {
     "name": "stdout",
     "output_type": "stream",
     "text": [
      "node D\n",
      "node C\n",
      "node B\n",
      "node A\n",
      "node start\n"
     ]
    }
   ],
   "source": [
    "for n in topo_sort(start_node):\n",
    "    print(f\"node {n.name}\")"
   ]
  },
  {
   "cell_type": "code",
   "execution_count": 73,
   "metadata": {},
   "outputs": [],
   "source": [
    "def prop_forward(head_node, x):\n",
    "    node = head_node\n",
    "    y = x.copy()\n",
    "    while node.children:\n",
    "        children = node.children\n",
    "        for child in children:\n",
    "            child.input = y.copy()\n",
    "            y = child.fct.forward_fct(y, child.weights)\n",
    "            node = child\n",
    "    return y\n",
    "\n",
    "def prop_backward(head_node, y):\n",
    "    # get the topologically sorted nodes\n",
    "    nodes = topo_sort(head_node)\n",
    "    # init the VJP as y, the output of the function\n",
    "    vjp = y.copy()\n",
    "    # for each node, prop the VJP \n",
    "    for node in nodes:\n",
    "        vjp = node.fct.vjp_fct(node.input, node.weights, vjp)\n",
    "    return vjp"
   ]
  },
  {
   "cell_type": "code",
   "execution_count": 74,
   "metadata": {},
   "outputs": [],
   "source": [
    "x = np.random.normal(size=d_in)\n",
    "y_bg = prop_forward(start_node, x)\n",
    "dydx_bg = prop_backward(start_node, y_bg)"
   ]
  },
  {
   "cell_type": "code",
   "execution_count": null,
   "metadata": {},
   "outputs": [],
   "source": []
  },
  {
   "cell_type": "code",
   "execution_count": 75,
   "metadata": {},
   "outputs": [],
   "source": [
    "import autograd as ag"
   ]
  },
  {
   "cell_type": "code",
   "execution_count": 76,
   "metadata": {},
   "outputs": [],
   "source": [
    "def test_function(input):\n",
    "    z = ag.numpy.dot(w_A, input)\n",
    "    z = ag.numpy.tanh(z)\n",
    "    z = ag.numpy.dot(w_C, z)\n",
    "    z = ag.numpy.tanh(z)\n",
    "    return z"
   ]
  },
  {
   "cell_type": "code",
   "execution_count": 77,
   "metadata": {},
   "outputs": [],
   "source": [
    "y_ag = test_function(x)\n",
    "dydx_ag = ag.grad(test_function)(x)"
   ]
  },
  {
   "cell_type": "code",
   "execution_count": 78,
   "metadata": {},
   "outputs": [
    {
     "ename": "AssertionError",
     "evalue": "",
     "output_type": "error",
     "traceback": [
      "\u001b[0;31m---------------------------------------------------------------------------\u001b[0m",
      "\u001b[0;31mAssertionError\u001b[0m                            Traceback (most recent call last)",
      "Cell \u001b[0;32mIn[78], line 3\u001b[0m\n\u001b[1;32m      1\u001b[0m atol \u001b[38;5;241m=\u001b[39m \u001b[38;5;241m1e-2\u001b[39m\n\u001b[1;32m      2\u001b[0m \u001b[38;5;28;01massert\u001b[39;00m np\u001b[38;5;241m.\u001b[39mallclose(y_bg, y_ag, atol\u001b[38;5;241m=\u001b[39matol)\n\u001b[0;32m----> 3\u001b[0m \u001b[38;5;28;01massert\u001b[39;00m np\u001b[38;5;241m.\u001b[39mallclose(dydx_bg, dydx_ag, atol\u001b[38;5;241m=\u001b[39matol)\n",
      "\u001b[0;31mAssertionError\u001b[0m: "
     ]
    }
   ],
   "source": [
    "atol = 1e-2\n",
    "assert np.allclose(y_bg, y_ag, atol=atol)\n",
    "assert np.allclose(dydx_bg, dydx_ag, atol=atol)"
   ]
  },
  {
   "cell_type": "code",
   "execution_count": 79,
   "metadata": {},
   "outputs": [
    {
     "data": {
      "text/plain": [
       "array([ 0.08591834,  0.26385867,  0.12385824,  0.20827776,  0.30192723,\n",
       "       -0.18920137,  0.06440053, -0.29868297, -0.10433536,  0.21340459,\n",
       "        0.03709308])"
      ]
     },
     "execution_count": 79,
     "metadata": {},
     "output_type": "execute_result"
    }
   ],
   "source": [
    "dydx_bg"
   ]
  },
  {
   "cell_type": "code",
   "execution_count": 80,
   "metadata": {},
   "outputs": [
    {
     "data": {
      "text/plain": [
       "array([ 0.20473063,  0.628736  ,  0.29513577,  0.49629494,  0.71944772,\n",
       "       -0.45083874,  0.15345689, -0.71171712, -0.24861565,  0.50851141,\n",
       "        0.08838729])"
      ]
     },
     "execution_count": 80,
     "metadata": {},
     "output_type": "execute_result"
    }
   ],
   "source": [
    "dydx_ag"
   ]
  },
  {
   "cell_type": "code",
   "execution_count": null,
   "metadata": {},
   "outputs": [],
   "source": []
  }
 ],
 "metadata": {
  "kernelspec": {
   "display_name": "Python 3",
   "language": "python",
   "name": "python3"
  },
  "language_info": {
   "codemirror_mode": {
    "name": "ipython",
    "version": 3
   },
   "file_extension": ".py",
   "mimetype": "text/x-python",
   "name": "python",
   "nbconvert_exporter": "python",
   "pygments_lexer": "ipython3",
   "version": "3.12.8"
  }
 },
 "nbformat": 4,
 "nbformat_minor": 2
}
