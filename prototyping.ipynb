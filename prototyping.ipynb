{
 "cells": [
  {
   "cell_type": "code",
   "execution_count": 664,
   "metadata": {},
   "outputs": [],
   "source": [
    "import numpy as np\n",
    "\n",
    "class Identity():\n",
    "    def __init__(self):\n",
    "        pass\n",
    "\n",
    "    def forward_fct(self, input, weights):\n",
    "        return input\n",
    "    \n",
    "    def vjp_fct(self, input, weights, vec):\n",
    "        return vec\n",
    "\n",
    "class Linear():\n",
    "    def __init__(self):\n",
    "        pass\n",
    "    \n",
    "    def forward_fct(self, input, weights):\n",
    "        return np.dot(weights, input)\n",
    "\n",
    "    def vjp_fct(self, input, weights, vec):\n",
    "        return np.dot(vec, weights)\n",
    "\n",
    "class Tanh():\n",
    "    def __init__(self):\n",
    "        pass\n",
    "\n",
    "    def forward_fct(self, input, weights):\n",
    "        return np.tanh(input)\n",
    "    \n",
    "    def vjp_fct(self, input, weights, vec):\n",
    "        # eps = 1e-5 # for numerical stability\n",
    "        # sech2 = 1./ (np.cosh(input)**2. + eps)\n",
    "        sech2 = 1./ (np.cosh(input)**2.)\n",
    "        return vec * sech2\n"
   ]
  },
  {
   "cell_type": "code",
   "execution_count": 665,
   "metadata": {},
   "outputs": [],
   "source": [
    "d = 13\n",
    "w = np.random.normal(size=d**2).reshape((d, d))\n",
    "x = np.random.normal(size=d)\n",
    "\n",
    "assert (Linear().forward_fct(x, w) == np.dot(w, x)).all()\n",
    "assert np.allclose(Tanh().forward_fct(np.pi, None), np.tanh(np.pi))"
   ]
  },
  {
   "cell_type": "code",
   "execution_count": 666,
   "metadata": {},
   "outputs": [],
   "source": [
    "class CompGraphNode:\n",
    "    def __init__(self, fct, name, weights):\n",
    "        self.parents = [] # comp graph nodes that call this function\n",
    "        self.children = [] # comp graph nodes that are called by this function\n",
    "        self.fct = fct\n",
    "        self.name = name\n",
    "        self.input = None\n",
    "        self.weights = weights"
   ]
  },
  {
   "cell_type": "code",
   "execution_count": 667,
   "metadata": {},
   "outputs": [],
   "source": [
    "# let's build a simple example CG\n",
    "# X -> Linear -> Tanh -> Linear -> Tanh\n",
    "# X ->  A(X)  -> B(a) - > C(b)  -> D(c)\n",
    "\n",
    "d_in = 7\n",
    "d_out = 1\n",
    "d_hid = 13\n",
    "w_A = np.random.normal(size=(d_hid, d_in))\n",
    "w_C = np.random.normal(size=(d_out, d_hid))\n",
    "\n",
    "start_node = CompGraphNode(Identity(), 'start', None)\n",
    "node_A = CompGraphNode(Linear(), 'A', w_A)\n",
    "node_B = CompGraphNode(Tanh(), 'B', None)\n",
    "# node_B = CompGraphNode(Identity(), 'B', None)\n",
    "node_C = CompGraphNode(Linear(), 'C', w_C)\n",
    "node_D = CompGraphNode(Tanh(), 'D', None)\n",
    "# node_D = CompGraphNode(Identity(), 'D', None)\n",
    "\n",
    "# this defines the topology\n",
    "start_node.children.append(node_A)\n",
    "node_A.parents.append(start_node)\n",
    "\n",
    "node_A.children.append(node_B)\n",
    "node_B.parents.append(node_A)\n",
    "\n",
    "node_B.children.append(node_C)\n",
    "node_C.parents.append(node_B)\n",
    "\n",
    "node_C.children.append(node_D)\n",
    "node_D.parents.append(node_C)"
   ]
  },
  {
   "cell_type": "code",
   "execution_count": 668,
   "metadata": {},
   "outputs": [],
   "source": [
    "def topo_sort(node):\n",
    "    topo = []\n",
    "    visited = set()\n",
    "    def build_topo(v):\n",
    "        if v not in visited:\n",
    "            visited.add(v)\n",
    "            for child in v.children:\n",
    "                build_topo(child)\n",
    "            topo.append(v)\n",
    "    build_topo(node)\n",
    "    return topo"
   ]
  },
  {
   "cell_type": "code",
   "execution_count": 669,
   "metadata": {},
   "outputs": [],
   "source": [
    "# for n in topo_sort(start_node):\n",
    "#     print(f\"node {n.name}\")"
   ]
  },
  {
   "cell_type": "code",
   "execution_count": 670,
   "metadata": {},
   "outputs": [],
   "source": [
    "def prop_forward(head_node, x):\n",
    "    node = head_node\n",
    "    y = np.copy(x)\n",
    "    while node.children:\n",
    "        children = node.children\n",
    "        for child in children:\n",
    "            child.input = np.copy(y)\n",
    "            y = child.fct.forward_fct(y, child.weights)\n",
    "            # print(f\"node {child.name}, input {child.input}, output {y} \")\n",
    "            node = child\n",
    "    return y\n",
    "\n",
    "def prop_backward(head_node, y):\n",
    "    # get the topologically sorted nodes\n",
    "    nodes = topo_sort(head_node)\n",
    "    # init the VJP\n",
    "    vjp = np.array([1.])\n",
    "    # for each node, prop the VJP \n",
    "    for node in nodes:\n",
    "        # print(f\"node {node.name}, input {node.input}, vec {vjp}\")\n",
    "        vjp = node.fct.vjp_fct(node.input, node.weights, vjp)\n",
    "    return vjp"
   ]
  },
  {
   "cell_type": "code",
   "execution_count": 671,
   "metadata": {},
   "outputs": [],
   "source": [
    "x = np.random.normal(size=d_in)\n",
    "# print(f\"x : {x}\")\n",
    "y_bg = prop_forward(start_node, x)"
   ]
  },
  {
   "cell_type": "code",
   "execution_count": 672,
   "metadata": {},
   "outputs": [],
   "source": [
    "dydx_bg = prop_backward(start_node, y_bg)"
   ]
  },
  {
   "cell_type": "code",
   "execution_count": 673,
   "metadata": {},
   "outputs": [],
   "source": [
    "import autograd as ag"
   ]
  },
  {
   "cell_type": "code",
   "execution_count": 674,
   "metadata": {},
   "outputs": [],
   "source": [
    "def test_function(input):\n",
    "    z = ag.numpy.dot(w_A, input)\n",
    "    z = ag.numpy.tanh(z)\n",
    "    z = ag.numpy.dot(w_C, z)\n",
    "    z = ag.numpy.tanh(z)\n",
    "    return z"
   ]
  },
  {
   "cell_type": "code",
   "execution_count": 675,
   "metadata": {},
   "outputs": [],
   "source": [
    "y_ag = test_function(x)\n",
    "dydx_ag = ag.grad(test_function)(x)"
   ]
  },
  {
   "cell_type": "code",
   "execution_count": 676,
   "metadata": {},
   "outputs": [],
   "source": [
    "atol = 1e-5\n",
    "assert np.allclose(y_bg, y_ag, atol=atol)"
   ]
  },
  {
   "cell_type": "code",
   "execution_count": 677,
   "metadata": {},
   "outputs": [],
   "source": [
    "assert np.allclose(dydx_bg, dydx_ag, atol=atol)"
   ]
  },
  {
   "cell_type": "code",
   "execution_count": 678,
   "metadata": {},
   "outputs": [
    {
     "data": {
      "text/plain": [
       "array([ 0.0052105 ,  0.01403135, -0.00236915, -0.00395498, -0.00347078,\n",
       "       -0.0040526 ,  0.00373018])"
      ]
     },
     "execution_count": 678,
     "metadata": {},
     "output_type": "execute_result"
    }
   ],
   "source": [
    "dydx_bg"
   ]
  },
  {
   "cell_type": "code",
   "execution_count": 679,
   "metadata": {},
   "outputs": [
    {
     "data": {
      "text/plain": [
       "array([ 0.0052105 ,  0.01403135, -0.00236915, -0.00395498, -0.00347078,\n",
       "       -0.0040526 ,  0.00373018])"
      ]
     },
     "execution_count": 679,
     "metadata": {},
     "output_type": "execute_result"
    }
   ],
   "source": [
    "dydx_ag"
   ]
  },
  {
   "cell_type": "code",
   "execution_count": null,
   "metadata": {},
   "outputs": [],
   "source": []
  }
 ],
 "metadata": {
  "kernelspec": {
   "display_name": "Python 3",
   "language": "python",
   "name": "python3"
  },
  "language_info": {
   "codemirror_mode": {
    "name": "ipython",
    "version": 3
   },
   "file_extension": ".py",
   "mimetype": "text/x-python",
   "name": "python",
   "nbconvert_exporter": "python",
   "pygments_lexer": "ipython3",
   "version": "3.12.8"
  }
 },
 "nbformat": 4,
 "nbformat_minor": 2
}
