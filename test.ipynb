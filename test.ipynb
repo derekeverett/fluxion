{
 "cells": [
  {
   "cell_type": "code",
   "execution_count": 1,
   "metadata": {},
   "outputs": [],
   "source": [
    "import numpy as np\n",
    "import gradflow.comp_graph as cg\n",
    "\n",
    "import autograd as ag"
   ]
  },
  {
   "cell_type": "code",
   "execution_count": 2,
   "metadata": {},
   "outputs": [],
   "source": [
    "d_in = 7\n",
    "d_out = 1\n",
    "d_hid = 13\n",
    "\n",
    "w_A_np = np.random.normal(size=(d_hid, d_in)) # 13 x 7\n",
    "w_C_np = np.random.normal(size=(d_out, d_hid)) # 1 x 13\n",
    "x_np = np.random.normal(size=(d_in, 1)) # 7 x 1\n",
    "\n",
    "x = cg.Value(\"x\", x_np)\n",
    "w_A = cg.Value(\"w_A\", w_A_np)\n",
    "w_C = cg.Value(\"w_C\", w_C_np)\n",
    "linear1 = cg.Dot(\"linear1\")\n",
    "linear2 = cg.Dot(\"linear2\")\n",
    "\n",
    "#forward pass\n",
    "x.forward()\n",
    "w_A.forward()\n",
    "w_C.forward()\n",
    "y1 = linear1.forward(w_A, x)\n",
    "y = linear2.forward(w_C, linear1)\n",
    "\n",
    "# the lhs of linear2 is w_C, which has an output shape of w_C\n",
    "# the rhs of linear2 is w_A x\n",
    "\n",
    "# the lhs of linear1 is w_A\n",
    "# the rhs of linear1 is x \n"
   ]
  },
  {
   "cell_type": "code",
   "execution_count": 3,
   "metadata": {},
   "outputs": [],
   "source": [
    "def test_function(input):\n",
    "    z = ag.numpy.dot(w_A_np, input)\n",
    "    # z = ag.numpy.tanh(z)\n",
    "    z = ag.numpy.dot(w_C_np, z)\n",
    "    # z = ag.numpy.tanh(z)\n",
    "    return z"
   ]
  },
  {
   "cell_type": "code",
   "execution_count": 4,
   "metadata": {},
   "outputs": [],
   "source": [
    "atol = 1e-5\n",
    "\n",
    "y_ag = test_function(x_np)\n",
    "assert np.allclose(y, y_ag, atol=atol)"
   ]
  },
  {
   "cell_type": "code",
   "execution_count": 5,
   "metadata": {},
   "outputs": [
    {
     "name": "stdout",
     "output_type": "stream",
     "text": [
      "### linear2 backward ###\n",
      "lhs.d_out.shape: (1, 13)\n",
      "input.shape, mult.shape, vec.shape = (1, 13), (13, 1), (1, 1)\n",
      "vjp.shape = (1, 13)\n",
      "d_lhs.shape: (1, 13)\n",
      "rhs.d_out.shape: (13, 1)\n",
      "input.shape, mult.shape, vec.shape = (13, 1), (1, 13), (1, 1)\n",
      "vjp.shape = (13, 1)\n",
      "d_rhs.shape: (13, 1)\n",
      "### linear1 backward ###\n",
      "lhs.d_out.shape: (13, 7)\n",
      "input.shape, mult.shape, vec.shape = (13, 7), (7, 1), (13, 1)\n",
      "vjp.shape = (13, 7)\n",
      "d_lhs.shape: (13, 7)\n",
      "rhs.d_out.shape: (7, 1)\n",
      "input.shape, mult.shape, vec.shape = (7, 1), (13, 7), (13, 1)\n",
      "vjp.shape = (7, 1)\n",
      "d_rhs.shape: (7, 1)\n"
     ]
    }
   ],
   "source": [
    "# compute backward pass by going in reverse topological order\n",
    "# linear2.d_out = np.array(1.)\n",
    "linear2.d_out = np.array([[1.]])\n",
    "# linear2.d_out = np.array(1.)\n",
    "print(f\"### linear2 backward ###\")\n",
    "_ = linear2.backward()\n",
    "print(f\"### linear1 backward ###\")\n",
    "_ = linear1.backward()"
   ]
  },
  {
   "cell_type": "code",
   "execution_count": 10,
   "metadata": {},
   "outputs": [
    {
     "name": "stdout",
     "output_type": "stream",
     "text": [
      "(13, 7)\n",
      "(13, 7)\n"
     ]
    }
   ],
   "source": [
    "print(w_A.out.shape)\n",
    "print(w_A.d_out.shape)"
   ]
  },
  {
   "cell_type": "code",
   "execution_count": 11,
   "metadata": {},
   "outputs": [
    {
     "name": "stdout",
     "output_type": "stream",
     "text": [
      "(1, 13)\n",
      "(1, 13)\n"
     ]
    }
   ],
   "source": [
    "print(w_C.out.shape)\n",
    "print(w_C.d_out.shape)"
   ]
  },
  {
   "cell_type": "code",
   "execution_count": 12,
   "metadata": {},
   "outputs": [
    {
     "name": "stdout",
     "output_type": "stream",
     "text": [
      "(7, 1)\n",
      "(7, 1)\n"
     ]
    }
   ],
   "source": [
    "print(x.out.shape)\n",
    "print(x.d_out.shape)"
   ]
  },
  {
   "cell_type": "code",
   "execution_count": null,
   "metadata": {},
   "outputs": [],
   "source": []
  }
 ],
 "metadata": {
  "kernelspec": {
   "display_name": "Python 3",
   "language": "python",
   "name": "python3"
  },
  "language_info": {
   "codemirror_mode": {
    "name": "ipython",
    "version": 3
   },
   "file_extension": ".py",
   "mimetype": "text/x-python",
   "name": "python",
   "nbconvert_exporter": "python",
   "pygments_lexer": "ipython3",
   "version": "3.12.8"
  }
 },
 "nbformat": 4,
 "nbformat_minor": 2
}
