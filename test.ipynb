{
 "cells": [
  {
   "cell_type": "code",
   "execution_count": 1,
   "metadata": {},
   "outputs": [],
   "source": [
    "import numpy as np\n",
    "import gradflow.comp_graph as cg\n",
    "\n",
    "import autograd as ag"
   ]
  },
  {
   "cell_type": "code",
   "execution_count": 2,
   "metadata": {},
   "outputs": [],
   "source": [
    "d_in = 7\n",
    "d_out = 1\n",
    "d_hid = 13\n",
    "\n",
    "w_A_np = np.random.normal(size=(d_hid, d_in))\n",
    "w_C_np = np.random.normal(size=(d_out, d_hid))\n",
    "x_np = np.random.normal(size=(d_in, 1))\n",
    "\n",
    "x = cg.Value(\"x\", x_np)\n",
    "\n",
    "w_A = cg.Value(\"w_A\", w_A_np)\n",
    "linear1 = cg.Dot(\"linear1\")\n",
    "\n",
    "act1 = cg.Tanh(\"act1\")\n",
    "\n",
    "w_C = cg.Value(\"w_C\", w_C_np)\n",
    "linear2 = cg.Dot(\"linear2\")\n",
    "\n",
    "# we use calls to forward pass to define the function topology\n",
    "x.forward()\n",
    "w_A.forward()\n",
    "w_C.forward()\n",
    "y = linear1.forward(w_A, x)\n",
    "y = act1.forward(linear1)\n",
    "y = linear2.forward(w_C, act1)"
   ]
  },
  {
   "cell_type": "code",
   "execution_count": 3,
   "metadata": {},
   "outputs": [],
   "source": [
    "def test_function(input):\n",
    "    z = ag.numpy.dot(w_A_np, input)\n",
    "    z = ag.numpy.tanh(z)\n",
    "    z = ag.numpy.dot(w_C_np, z)\n",
    "    return z"
   ]
  },
  {
   "cell_type": "code",
   "execution_count": 4,
   "metadata": {},
   "outputs": [],
   "source": [
    "atol = 1e-5\n",
    "\n",
    "y_ag = test_function(x_np)\n",
    "assert np.allclose(y, y_ag, atol=atol)"
   ]
  },
  {
   "cell_type": "code",
   "execution_count": null,
   "metadata": {},
   "outputs": [],
   "source": [
    "# compute backward pass by going in reverse topological order\n",
    "# doing this manually but this should be replaced by a topo sort\n",
    "# linear2.d_out = np.array([[1.]])\n",
    "# _ = linear2.backward()\n",
    "# _ = act1.backward()\n",
    "# _ = linear1.backward()\n",
    "\n",
    "\n",
    "my_graph = cg.Graph(\"my_fun\", [linear2])\n",
    "my_graph.backward()"
   ]
  },
  {
   "cell_type": "code",
   "execution_count": null,
   "metadata": {},
   "outputs": [],
   "source": [
    "dy_dx_ag = ag.grad(test_function)(x_np)\n",
    "\n",
    "assert np.allclose(x.d_out, dy_dx_ag, atol=atol)"
   ]
  },
  {
   "cell_type": "code",
   "execution_count": null,
   "metadata": {},
   "outputs": [],
   "source": []
  }
 ],
 "metadata": {
  "kernelspec": {
   "display_name": "Python 3",
   "language": "python",
   "name": "python3"
  },
  "language_info": {
   "codemirror_mode": {
    "name": "ipython",
    "version": 3
   },
   "file_extension": ".py",
   "mimetype": "text/x-python",
   "name": "python",
   "nbconvert_exporter": "python",
   "pygments_lexer": "ipython3",
   "version": "3.12.8"
  }
 },
 "nbformat": 4,
 "nbformat_minor": 2
}
