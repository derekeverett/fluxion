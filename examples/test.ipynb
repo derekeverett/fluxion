{
 "cells": [
  {
   "cell_type": "code",
   "execution_count": 1,
   "metadata": {},
   "outputs": [],
   "source": [
    "import numpy as np\n",
    "import gradflow.comp_graph as cg\n",
    "\n",
    "import autograd as ag"
   ]
  },
  {
   "cell_type": "code",
   "execution_count": 2,
   "metadata": {},
   "outputs": [],
   "source": [
    "d_in = 7\n",
    "d_out = 1\n",
    "d_hid = 13\n",
    "\n",
    "B = 17 # batch size\n",
    "w_A_np = np.random.normal(size=(d_in, d_hid))\n",
    "w_C_np = np.random.normal(size=(d_hid, d_out))\n",
    "x_np = np.random.normal(size=(B, d_in))\n",
    "omega_true = np.random.normal(size=(d_in, 1))\n",
    "def true_fct(z):\n",
    "    return np.cos(np.dot(z, omega_true))\n",
    "y_true = np.array([true_fct(z) for z in x_np])\n",
    "\n",
    "x = cg.Value(\"x\", x_np) # input vector\n",
    "\n",
    "w_A = cg.Value(\"w_A\", w_A_np) # params in linear layer\n",
    "linear1 = cg.Dot(\"linear1\")\n",
    "\n",
    "act1 = cg.Tanh(\"act1\")\n",
    "\n",
    "w_C = cg.Value(\"w_C\", w_C_np) # params in a linear layer\n",
    "linear2 = cg.Dot(\"linear2\")\n",
    "\n",
    "# loss function comput node\n",
    "loss = cg.MSELoss(\"mse\")\n",
    "\n",
    "# we use calls to forward pass to define the function topology\n",
    "x.forward()\n",
    "w_A.forward()\n",
    "w_C.forward()\n",
    "y = linear1.forward(x, w_A)\n",
    "y = act1.forward(linear1)\n",
    "y = linear2.forward(act1, w_C)\n",
    "\n",
    "# finally we pass inputs through a loss function that \n",
    "# returns a scalar\n",
    "l = loss.forward(linear2, y_true)"
   ]
  },
  {
   "cell_type": "code",
   "execution_count": 3,
   "metadata": {},
   "outputs": [],
   "source": [
    "def test_function(input):\n",
    "    z = ag.numpy.dot(input, w_A_np)\n",
    "    z = ag.numpy.tanh(z)\n",
    "    z = ag.numpy.dot(z, w_C_np)\n",
    "    l = ag.numpy.mean( (z - y_true)**2. )\n",
    "    return l, z"
   ]
  },
  {
   "cell_type": "code",
   "execution_count": 5,
   "metadata": {},
   "outputs": [],
   "source": [
    "atol = 1e-5\n",
    "\n",
    "l_ag, y_ag = test_function(x_np)\n",
    "assert np.allclose(y, y_ag, atol=atol)\n",
    "assert np.allclose(l, l_ag, atol=atol)"
   ]
  },
  {
   "cell_type": "code",
   "execution_count": 5,
   "metadata": {},
   "outputs": [],
   "source": [
    "my_graph = cg.Graph(\"my_fun\", [loss])\n",
    "my_graph.backward()"
   ]
  },
  {
   "cell_type": "code",
   "execution_count": 7,
   "metadata": {},
   "outputs": [
    {
     "name": "stderr",
     "output_type": "stream",
     "text": [
      "/home/derek/micromamba/envs/blottograd/lib/python3.12/site-packages/autograd/tracer.py:14: UserWarning: Output seems independent of input.\n",
      "  warnings.warn(\"Output seems independent of input.\")\n"
     ]
    }
   ],
   "source": [
    "dl_dx_ag = ag.elementwise_grad(test_function)(x_np)\n",
    "\n",
    "assert np.allclose(x.d_out, dl_dx_ag, atol=atol)"
   ]
  },
  {
   "cell_type": "code",
   "execution_count": null,
   "metadata": {},
   "outputs": [],
   "source": []
  },
  {
   "cell_type": "code",
   "execution_count": null,
   "metadata": {},
   "outputs": [],
   "source": []
  },
  {
   "cell_type": "code",
   "execution_count": null,
   "metadata": {},
   "outputs": [],
   "source": []
  },
  {
   "cell_type": "code",
   "execution_count": null,
   "metadata": {},
   "outputs": [],
   "source": []
  },
  {
   "cell_type": "code",
   "execution_count": null,
   "metadata": {},
   "outputs": [],
   "source": []
  },
  {
   "cell_type": "code",
   "execution_count": 1,
   "metadata": {},
   "outputs": [],
   "source": [
    "### dual numbers test\n",
    "\n",
    "from gradflow.dual import Dual"
   ]
  },
  {
   "cell_type": "code",
   "execution_count": 2,
   "metadata": {},
   "outputs": [],
   "source": [
    "a = Dual(2., 3.)\n",
    "b = Dual(4., 5.)"
   ]
  },
  {
   "cell_type": "code",
   "execution_count": 3,
   "metadata": {},
   "outputs": [],
   "source": [
    "res = a+b"
   ]
  },
  {
   "cell_type": "code",
   "execution_count": null,
   "metadata": {},
   "outputs": [],
   "source": [
    "res.v"
   ]
  },
  {
   "cell_type": "code",
   "execution_count": null,
   "metadata": {},
   "outputs": [],
   "source": [
    "res.d"
   ]
  },
  {
   "cell_type": "code",
   "execution_count": 6,
   "metadata": {},
   "outputs": [],
   "source": [
    "res = a*b"
   ]
  },
  {
   "cell_type": "code",
   "execution_count": null,
   "metadata": {},
   "outputs": [],
   "source": [
    "res.v"
   ]
  },
  {
   "cell_type": "code",
   "execution_count": null,
   "metadata": {},
   "outputs": [],
   "source": [
    "res.d"
   ]
  },
  {
   "cell_type": "code",
   "execution_count": null,
   "metadata": {},
   "outputs": [],
   "source": [
    "a-b"
   ]
  },
  {
   "cell_type": "code",
   "execution_count": null,
   "metadata": {},
   "outputs": [],
   "source": [
    "a**3."
   ]
  },
  {
   "cell_type": "code",
   "execution_count": null,
   "metadata": {},
   "outputs": [],
   "source": []
  }
 ],
 "metadata": {
  "kernelspec": {
   "display_name": "blottograd",
   "language": "python",
   "name": "python3"
  },
  "language_info": {
   "codemirror_mode": {
    "name": "ipython",
    "version": 3
   },
   "file_extension": ".py",
   "mimetype": "text/x-python",
   "name": "python",
   "nbconvert_exporter": "python",
   "pygments_lexer": "ipython3",
   "version": "3.12.8"
  }
 },
 "nbformat": 4,
 "nbformat_minor": 2
}
