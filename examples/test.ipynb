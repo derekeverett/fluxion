{
 "cells": [
  {
   "cell_type": "code",
   "execution_count": 1,
   "metadata": {},
   "outputs": [],
   "source": [
    "import numpy as np\n",
    "import fluxion.comp_graph as cg\n",
    "\n",
    "import autograd as ag"
   ]
  },
  {
   "cell_type": "code",
   "execution_count": 2,
   "metadata": {},
   "outputs": [],
   "source": [
    "d_in = 7\n",
    "d_out = 1\n",
    "d_hid = 13\n",
    "\n",
    "B = 17 # batch size\n",
    "w_A_np = np.random.normal(size=(d_in, d_hid))\n",
    "w_C_np = np.random.normal(size=(d_hid, d_out))\n",
    "x_np = np.random.normal(size=(B, d_in))\n",
    "omega_true = np.random.normal(size=(d_in, 1))\n",
    "def true_fct(z):\n",
    "    return np.cos(np.dot(z, omega_true))\n",
    "y_true = np.array([true_fct(z) for z in x_np])\n",
    "\n",
    "x = cg.Value(\"x\", x_np) # input vector\n",
    "\n",
    "w_A = cg.Value(\"w_A\", w_A_np) # params in linear layer\n",
    "linear1 = cg.Dot(\"linear1\")\n",
    "\n",
    "act1 = cg.Tanh(\"act1\")\n",
    "\n",
    "w_C = cg.Value(\"w_C\", w_C_np) # params in a linear layer\n",
    "linear2 = cg.Dot(\"linear2\")\n",
    "\n",
    "# loss function comput node\n",
    "loss = cg.MSELoss(\"mse\")\n",
    "\n",
    "# we use calls to forward pass to define the function topology\n",
    "x.forward()\n",
    "w_A.forward()\n",
    "w_C.forward()\n",
    "y = linear1.forward(x, w_A)\n",
    "y = act1.forward(linear1)\n",
    "y = linear2.forward(act1, w_C)\n",
    "\n",
    "# finally we pass inputs through a loss function that \n",
    "# returns a scalar\n",
    "l = loss.forward(linear2, y_true)"
   ]
  },
  {
   "cell_type": "code",
   "execution_count": 3,
   "metadata": {},
   "outputs": [],
   "source": [
    "def test_embed_function(input):\n",
    "    z = ag.numpy.dot(input, w_A_np)\n",
    "    z = ag.numpy.tanh(z)\n",
    "    z = ag.numpy.dot(z, w_C_np)\n",
    "    return z\n",
    "\n",
    "def test_loss_function(input):\n",
    "    z = test_embed_function(input)\n",
    "    l = ag.numpy.mean( (z - y_true)**2. , keepdims=True)\n",
    "    return l"
   ]
  },
  {
   "cell_type": "code",
   "execution_count": 4,
   "metadata": {},
   "outputs": [],
   "source": [
    "atol = 1e-5\n",
    "\n",
    "y_ag = test_embed_function(x_np)\n",
    "l_ag = test_loss_function(x_np)\n",
    "assert np.allclose(y, y_ag, atol=atol)\n",
    "assert np.allclose(l, l_ag, atol=atol)"
   ]
  },
  {
   "cell_type": "code",
   "execution_count": 5,
   "metadata": {},
   "outputs": [],
   "source": [
    "my_graph = cg.Graph(\"my_fun\", [loss])\n",
    "my_graph.backward()"
   ]
  },
  {
   "cell_type": "code",
   "execution_count": 6,
   "metadata": {},
   "outputs": [],
   "source": [
    "ag_grad_fn = ag.elementwise_grad(test_loss_function)\n",
    "dl_dx_ag = ag_grad_fn(x_np)\n",
    "\n",
    "assert np.allclose(x.d_out, dl_dx_ag, atol=atol)"
   ]
  },
  {
   "cell_type": "code",
   "execution_count": 7,
   "metadata": {},
   "outputs": [
    {
     "data": {
      "text/plain": [
       "(17, 7)"
      ]
     },
     "execution_count": 7,
     "metadata": {},
     "output_type": "execute_result"
    }
   ],
   "source": [
    "x.d_out.shape"
   ]
  },
  {
   "cell_type": "code",
   "execution_count": 8,
   "metadata": {},
   "outputs": [
    {
     "data": {
      "text/plain": [
       "(17, 7)"
      ]
     },
     "execution_count": 8,
     "metadata": {},
     "output_type": "execute_result"
    }
   ],
   "source": [
    "dl_dx_ag.shape"
   ]
  },
  {
   "cell_type": "code",
   "execution_count": 9,
   "metadata": {},
   "outputs": [
    {
     "data": {
      "text/plain": [
       "array([[-0.00130078,  0.09370173,  0.02079846, -0.0591128 ,  0.00766673,\n",
       "         0.05984277,  0.03011341],\n",
       "       [ 0.06229296,  0.02121124, -0.00147247, -0.1320522 ,  0.02405879,\n",
       "        -0.02435105, -0.0416249 ],\n",
       "       [-0.09327006, -0.02826   , -0.0436361 ,  0.04801962, -0.04448927,\n",
       "         0.01635916, -0.01289019],\n",
       "       [-0.07183066, -0.03320991, -0.0126541 ,  0.02298268, -0.03067478,\n",
       "         0.00556124,  0.00826458],\n",
       "       [ 0.03780593, -0.03089557,  0.01045615,  0.02575978,  0.02048321,\n",
       "        -0.01954853,  0.01870209],\n",
       "       [-0.02081396,  0.12589773, -0.0555805 , -0.039016  , -0.05236376,\n",
       "        -0.02044785, -0.14384473],\n",
       "       [ 0.18593376, -0.30173307, -0.15808933, -0.10230736,  0.08703317,\n",
       "         0.10960068,  0.45324985],\n",
       "       [ 0.03391318, -0.0038191 , -0.00808106, -0.00693938,  0.00488159,\n",
       "        -0.01738208, -0.02176767],\n",
       "       [-0.03188743,  0.01845321,  0.00076951, -0.01488566, -0.01556722,\n",
       "         0.03163639,  0.01570709],\n",
       "       [ 0.00137754,  0.06977922, -0.09010554, -0.15948118, -0.11452396,\n",
       "         0.04431875, -0.05636968],\n",
       "       [-0.12505524,  0.32306947, -0.00950636, -0.37491726, -0.22872637,\n",
       "         0.37746315, -0.0995454 ],\n",
       "       [-0.27378695, -0.1771066 , -0.12823878, -0.18333388, -0.18172267,\n",
       "        -0.05623042,  0.21462865],\n",
       "       [-0.38224598,  0.17662394, -0.03321639, -0.02155092, -0.24771191,\n",
       "         0.02461069, -0.36185511],\n",
       "       [ 0.01937911,  0.01481109, -0.007013  , -0.01651251, -0.00331561,\n",
       "         0.01752046,  0.0233764 ],\n",
       "       [ 0.04235355, -0.0281025 , -0.000981  , -0.05799736,  0.05157602,\n",
       "        -0.0648479 , -0.01128092],\n",
       "       [-0.04809809, -0.0168868 , -0.01452905,  0.02753656, -0.02155306,\n",
       "         0.00851813, -0.00433951],\n",
       "       [ 0.01957496, -0.06239279, -0.03805757,  0.12075054,  0.00081856,\n",
       "        -0.00310155, -0.11974736]])"
      ]
     },
     "execution_count": 9,
     "metadata": {},
     "output_type": "execute_result"
    }
   ],
   "source": [
    "x.d_out"
   ]
  },
  {
   "cell_type": "code",
   "execution_count": 10,
   "metadata": {},
   "outputs": [
    {
     "data": {
      "text/plain": [
       "array([[-0.00130078,  0.09370173,  0.02079846, -0.0591128 ,  0.00766673,\n",
       "         0.05984277,  0.03011341],\n",
       "       [ 0.06229296,  0.02121124, -0.00147247, -0.1320522 ,  0.02405879,\n",
       "        -0.02435105, -0.0416249 ],\n",
       "       [-0.09327006, -0.02826   , -0.0436361 ,  0.04801962, -0.04448927,\n",
       "         0.01635916, -0.01289019],\n",
       "       [-0.07183066, -0.03320991, -0.0126541 ,  0.02298268, -0.03067478,\n",
       "         0.00556124,  0.00826458],\n",
       "       [ 0.03780593, -0.03089557,  0.01045615,  0.02575978,  0.02048321,\n",
       "        -0.01954853,  0.01870209],\n",
       "       [-0.02081396,  0.12589773, -0.0555805 , -0.039016  , -0.05236376,\n",
       "        -0.02044785, -0.14384473],\n",
       "       [ 0.18593376, -0.30173307, -0.15808933, -0.10230736,  0.08703317,\n",
       "         0.10960068,  0.45324985],\n",
       "       [ 0.03391318, -0.0038191 , -0.00808106, -0.00693938,  0.00488159,\n",
       "        -0.01738208, -0.02176767],\n",
       "       [-0.03188743,  0.01845321,  0.00076951, -0.01488566, -0.01556722,\n",
       "         0.03163639,  0.01570709],\n",
       "       [ 0.00137754,  0.06977922, -0.09010554, -0.15948118, -0.11452396,\n",
       "         0.04431875, -0.05636968],\n",
       "       [-0.12505524,  0.32306947, -0.00950636, -0.37491726, -0.22872637,\n",
       "         0.37746315, -0.0995454 ],\n",
       "       [-0.27378695, -0.1771066 , -0.12823878, -0.18333388, -0.18172267,\n",
       "        -0.05623042,  0.21462865],\n",
       "       [-0.38224598,  0.17662394, -0.03321639, -0.02155092, -0.24771191,\n",
       "         0.02461069, -0.36185511],\n",
       "       [ 0.01937911,  0.01481109, -0.007013  , -0.01651251, -0.00331561,\n",
       "         0.01752046,  0.0233764 ],\n",
       "       [ 0.04235355, -0.0281025 , -0.000981  , -0.05799736,  0.05157602,\n",
       "        -0.0648479 , -0.01128092],\n",
       "       [-0.04809809, -0.0168868 , -0.01452905,  0.02753656, -0.02155306,\n",
       "         0.00851813, -0.00433951],\n",
       "       [ 0.01957496, -0.06239279, -0.03805757,  0.12075054,  0.00081856,\n",
       "        -0.00310155, -0.11974736]])"
      ]
     },
     "execution_count": 10,
     "metadata": {},
     "output_type": "execute_result"
    }
   ],
   "source": [
    "dl_dx_ag"
   ]
  },
  {
   "cell_type": "code",
   "execution_count": null,
   "metadata": {},
   "outputs": [],
   "source": []
  }
 ],
 "metadata": {
  "kernelspec": {
   "display_name": "gradflow",
   "language": "python",
   "name": "python3"
  },
  "language_info": {
   "codemirror_mode": {
    "name": "ipython",
    "version": 3
   },
   "file_extension": ".py",
   "mimetype": "text/x-python",
   "name": "python",
   "nbconvert_exporter": "python",
   "pygments_lexer": "ipython3",
   "version": "3.11.11"
  }
 },
 "nbformat": 4,
 "nbformat_minor": 2
}
