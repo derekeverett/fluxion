{
 "cells": [
  {
   "cell_type": "code",
   "execution_count": 1,
   "metadata": {},
   "outputs": [],
   "source": [
    "import numpy as np\n",
    "import gradflow.comp_graph as cg\n",
    "\n",
    "import autograd as ag"
   ]
  },
  {
   "cell_type": "code",
   "execution_count": 2,
   "metadata": {},
   "outputs": [],
   "source": [
    "d_in = 7\n",
    "d_out = 1\n",
    "d_hid = 13\n",
    "\n",
    "B = 17 # batch size\n",
    "w_A_np = np.random.normal(size=(d_in, d_hid))\n",
    "w_C_np = np.random.normal(size=(d_hid, d_out))\n",
    "x_np = np.random.normal(size=(B, d_in))\n",
    "omega_true = np.random.normal(size=(d_in, 1))\n",
    "def true_fct(z):\n",
    "    return np.cos(np.dot(z, omega_true))\n",
    "y_true = np.array([true_fct(z) for z in x_np])\n",
    "\n",
    "x = cg.Value(\"x\", x_np) # input vector\n",
    "\n",
    "w_A = cg.Value(\"w_A\", w_A_np) # params in linear layer\n",
    "linear1 = cg.Dot(\"linear1\")\n",
    "\n",
    "act1 = cg.Tanh(\"act1\")\n",
    "\n",
    "w_C = cg.Value(\"w_C\", w_C_np) # params in a linear layer\n",
    "linear2 = cg.Dot(\"linear2\")\n",
    "\n",
    "# loss function comput node\n",
    "loss = cg.MSELoss(\"mse\")\n",
    "\n",
    "# we use calls to forward pass to define the function topology\n",
    "x.forward()\n",
    "w_A.forward()\n",
    "w_C.forward()\n",
    "y = linear1.forward(x, w_A)\n",
    "y = act1.forward(linear1)\n",
    "y = linear2.forward(act1, w_C)\n",
    "\n",
    "# finally we pass inputs through a loss function that \n",
    "# returns a scalar\n",
    "l = loss.forward(linear2, y_true)"
   ]
  },
  {
   "cell_type": "code",
   "execution_count": 3,
   "metadata": {},
   "outputs": [],
   "source": [
    "def test_embed_function(input):\n",
    "    z = ag.numpy.dot(input, w_A_np)\n",
    "    z = ag.numpy.tanh(z)\n",
    "    z = ag.numpy.dot(z, w_C_np)\n",
    "    return z\n",
    "\n",
    "def test_loss_function(input):\n",
    "    z = test_embed_function(input)\n",
    "    l = ag.numpy.mean( (z - y_true)**2. , keepdims=True)\n",
    "    return l"
   ]
  },
  {
   "cell_type": "code",
   "execution_count": 4,
   "metadata": {},
   "outputs": [],
   "source": [
    "atol = 1e-5\n",
    "\n",
    "y_ag = test_embed_function(x_np)\n",
    "l_ag = test_loss_function(x_np)\n",
    "assert np.allclose(y, y_ag, atol=atol)\n",
    "assert np.allclose(l, l_ag, atol=atol)"
   ]
  },
  {
   "cell_type": "code",
   "execution_count": 5,
   "metadata": {},
   "outputs": [],
   "source": [
    "my_graph = cg.Graph(\"my_fun\", [loss])\n",
    "my_graph.backward()"
   ]
  },
  {
   "cell_type": "code",
   "execution_count": 7,
   "metadata": {},
   "outputs": [],
   "source": [
    "ag_grad_fn = ag.elementwise_grad(test_loss_function)\n",
    "dl_dx_ag = ag_grad_fn(x_np)\n",
    "\n",
    "assert np.allclose(x.d_out, dl_dx_ag, atol=atol)"
   ]
  },
  {
   "cell_type": "code",
   "execution_count": 8,
   "metadata": {},
   "outputs": [
    {
     "data": {
      "text/plain": [
       "(17, 7)"
      ]
     },
     "execution_count": 8,
     "metadata": {},
     "output_type": "execute_result"
    }
   ],
   "source": [
    "x.d_out.shape"
   ]
  },
  {
   "cell_type": "code",
   "execution_count": 9,
   "metadata": {},
   "outputs": [
    {
     "data": {
      "text/plain": [
       "(17, 7)"
      ]
     },
     "execution_count": 9,
     "metadata": {},
     "output_type": "execute_result"
    }
   ],
   "source": [
    "dl_dx_ag.shape"
   ]
  },
  {
   "cell_type": "code",
   "execution_count": 10,
   "metadata": {},
   "outputs": [
    {
     "data": {
      "text/plain": [
       "array([[ 3.58767055e-02,  4.33668953e-01, -2.14073174e-01,\n",
       "         3.39136650e-01,  1.38235952e-01,  2.24035787e-01,\n",
       "         1.77872455e-01],\n",
       "       [ 2.03627101e-01,  1.60989384e+00, -1.05404200e-01,\n",
       "         4.95893915e-01,  5.20818440e-01,  4.93407717e-01,\n",
       "         1.42524287e+00],\n",
       "       [-1.91649967e-02, -1.69900280e-01, -3.61757251e-02,\n",
       "        -1.03548954e-01,  1.57852559e-02, -2.03279658e-01,\n",
       "        -3.10751027e-02],\n",
       "       [ 2.32922242e-01, -1.29817930e+00,  4.04538472e-01,\n",
       "        -6.10956506e-01, -5.77378780e-01, -7.17980264e-01,\n",
       "        -1.30869977e+00],\n",
       "       [-1.55031884e-01,  5.85983935e-01,  4.07419486e-01,\n",
       "         1.54504465e-01,  5.20052895e-01,  1.93103915e-02,\n",
       "         1.26545315e+00],\n",
       "       [-2.61507373e-01, -5.65959511e-01,  4.60237749e-01,\n",
       "        -4.96455128e-01, -2.20096398e-01, -3.19849182e-01,\n",
       "        -9.36647949e-01],\n",
       "       [-1.18756977e+00,  1.05902265e+00, -1.17751263e+00,\n",
       "         1.16205000e+00,  7.94625309e-01,  2.23744876e-01,\n",
       "         1.16877160e+00],\n",
       "       [-1.68570233e-04, -3.84399064e-02,  1.97779113e-02,\n",
       "        -8.15003640e-03, -2.43853758e-03, -4.08486683e-02,\n",
       "        -4.20115758e-02],\n",
       "       [ 1.00206119e+00, -1.64191134e+00,  7.06353817e-01,\n",
       "        -1.59077296e+00, -4.80487153e-01, -8.09514539e-01,\n",
       "        -7.74158044e-01],\n",
       "       [ 4.60794569e-01, -2.80679390e+00,  1.33790798e+00,\n",
       "        -5.27828005e-02, -5.19447896e-01, -1.59620875e+00,\n",
       "        -2.37238161e+00],\n",
       "       [ 2.41660382e-01, -1.04461282e+00,  5.50242894e-01,\n",
       "        -1.88972676e+00, -1.25483125e+00,  7.93012208e-01,\n",
       "        -1.30324466e+00],\n",
       "       [-1.65357424e-01,  7.02849422e-01, -2.11129792e-01,\n",
       "         6.22287047e-01,  3.15070320e-01,  2.33877079e-01,\n",
       "         3.43255587e-01],\n",
       "       [-2.68273598e-01,  5.76797719e-01, -2.06387129e-01,\n",
       "         4.18530349e-01,  1.15880848e-01,  4.49104261e-01,\n",
       "         1.17876490e-01],\n",
       "       [ 5.99150752e-03,  1.89371327e-01, -8.19729503e-02,\n",
       "         1.01589417e-01,  4.25597973e-02,  1.24857609e-01,\n",
       "         1.31062222e-01],\n",
       "       [-3.39452117e-02,  4.27972307e-01, -2.39485475e-01,\n",
       "         3.38132525e-01,  9.24246398e-02, -2.52198326e-02,\n",
       "         1.60748338e-01],\n",
       "       [ 8.13092338e-02,  2.16884023e-01, -3.09595289e-02,\n",
       "         1.25236860e-01,  2.99286806e-02,  2.08001091e-01,\n",
       "         1.13726764e-01],\n",
       "       [-5.10549062e-02,  3.93326463e-01, -1.84893101e-01,\n",
       "         2.22627307e-01,  1.66447892e-01,  1.83087545e-01,\n",
       "         3.13397739e-01]])"
      ]
     },
     "execution_count": 10,
     "metadata": {},
     "output_type": "execute_result"
    }
   ],
   "source": [
    "x.d_out"
   ]
  },
  {
   "cell_type": "code",
   "execution_count": 11,
   "metadata": {},
   "outputs": [
    {
     "data": {
      "text/plain": [
       "array([[ 3.58767055e-02,  4.33668953e-01, -2.14073174e-01,\n",
       "         3.39136650e-01,  1.38235952e-01,  2.24035787e-01,\n",
       "         1.77872455e-01],\n",
       "       [ 2.03627101e-01,  1.60989384e+00, -1.05404200e-01,\n",
       "         4.95893915e-01,  5.20818440e-01,  4.93407717e-01,\n",
       "         1.42524287e+00],\n",
       "       [-1.91649967e-02, -1.69900280e-01, -3.61757251e-02,\n",
       "        -1.03548954e-01,  1.57852559e-02, -2.03279658e-01,\n",
       "        -3.10751027e-02],\n",
       "       [ 2.32922242e-01, -1.29817930e+00,  4.04538472e-01,\n",
       "        -6.10956506e-01, -5.77378780e-01, -7.17980264e-01,\n",
       "        -1.30869977e+00],\n",
       "       [-1.55031884e-01,  5.85983935e-01,  4.07419486e-01,\n",
       "         1.54504465e-01,  5.20052895e-01,  1.93103915e-02,\n",
       "         1.26545315e+00],\n",
       "       [-2.61507373e-01, -5.65959511e-01,  4.60237749e-01,\n",
       "        -4.96455128e-01, -2.20096398e-01, -3.19849182e-01,\n",
       "        -9.36647949e-01],\n",
       "       [-1.18756977e+00,  1.05902265e+00, -1.17751263e+00,\n",
       "         1.16205000e+00,  7.94625309e-01,  2.23744876e-01,\n",
       "         1.16877160e+00],\n",
       "       [-1.68570233e-04, -3.84399064e-02,  1.97779113e-02,\n",
       "        -8.15003640e-03, -2.43853758e-03, -4.08486683e-02,\n",
       "        -4.20115758e-02],\n",
       "       [ 1.00206119e+00, -1.64191134e+00,  7.06353817e-01,\n",
       "        -1.59077296e+00, -4.80487153e-01, -8.09514539e-01,\n",
       "        -7.74158044e-01],\n",
       "       [ 4.60794569e-01, -2.80679390e+00,  1.33790798e+00,\n",
       "        -5.27828005e-02, -5.19447896e-01, -1.59620875e+00,\n",
       "        -2.37238161e+00],\n",
       "       [ 2.41660382e-01, -1.04461282e+00,  5.50242894e-01,\n",
       "        -1.88972676e+00, -1.25483125e+00,  7.93012208e-01,\n",
       "        -1.30324466e+00],\n",
       "       [-1.65357424e-01,  7.02849422e-01, -2.11129792e-01,\n",
       "         6.22287047e-01,  3.15070320e-01,  2.33877079e-01,\n",
       "         3.43255587e-01],\n",
       "       [-2.68273598e-01,  5.76797719e-01, -2.06387129e-01,\n",
       "         4.18530349e-01,  1.15880848e-01,  4.49104261e-01,\n",
       "         1.17876490e-01],\n",
       "       [ 5.99150752e-03,  1.89371327e-01, -8.19729503e-02,\n",
       "         1.01589417e-01,  4.25597973e-02,  1.24857609e-01,\n",
       "         1.31062222e-01],\n",
       "       [-3.39452117e-02,  4.27972307e-01, -2.39485475e-01,\n",
       "         3.38132525e-01,  9.24246398e-02, -2.52198326e-02,\n",
       "         1.60748338e-01],\n",
       "       [ 8.13092338e-02,  2.16884023e-01, -3.09595289e-02,\n",
       "         1.25236860e-01,  2.99286806e-02,  2.08001091e-01,\n",
       "         1.13726764e-01],\n",
       "       [-5.10549062e-02,  3.93326463e-01, -1.84893101e-01,\n",
       "         2.22627307e-01,  1.66447892e-01,  1.83087545e-01,\n",
       "         3.13397739e-01]])"
      ]
     },
     "execution_count": 11,
     "metadata": {},
     "output_type": "execute_result"
    }
   ],
   "source": [
    "dl_dx_ag"
   ]
  },
  {
   "cell_type": "code",
   "execution_count": null,
   "metadata": {},
   "outputs": [],
   "source": []
  }
 ],
 "metadata": {
  "kernelspec": {
   "display_name": "blottograd",
   "language": "python",
   "name": "python3"
  },
  "language_info": {
   "codemirror_mode": {
    "name": "ipython",
    "version": 3
   },
   "file_extension": ".py",
   "mimetype": "text/x-python",
   "name": "python",
   "nbconvert_exporter": "python",
   "pygments_lexer": "ipython3",
   "version": "3.12.8"
  }
 },
 "nbformat": 4,
 "nbformat_minor": 2
}
